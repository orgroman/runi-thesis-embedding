{
 "cells": [
  {
   "cell_type": "code",
   "execution_count": 3,
   "metadata": {},
   "outputs": [],
   "source": [
    "import pandas as pd\n",
    "from pathlib import Path"
   ]
  },
  {
   "cell_type": "code",
   "execution_count": 4,
   "metadata": {},
   "outputs": [],
   "source": [
    "root_directory = Path(r'C:\\workspace_or_private\\repos\\runi-thesis-project\\hidrive')\n"
   ]
  },
  {
   "cell_type": "code",
   "execution_count": 8,
   "metadata": {},
   "outputs": [],
   "source": [
    "patentmatch_train_file = root_directory / 'patentmatch_train' / 'patentmatch_train.tsv'\n",
    "df = pd.read_csv(patentmatch_train_file, sep='\\t')"
   ]
  },
  {
   "cell_type": "code",
   "execution_count": 9,
   "metadata": {},
   "outputs": [
    {
     "data": {
      "text/html": [
       "<div>\n",
       "<style scoped>\n",
       "    .dataframe tbody tr th:only-of-type {\n",
       "        vertical-align: middle;\n",
       "    }\n",
       "\n",
       "    .dataframe tbody tr th {\n",
       "        vertical-align: top;\n",
       "    }\n",
       "\n",
       "    .dataframe thead th {\n",
       "        text-align: right;\n",
       "    }\n",
       "</style>\n",
       "<table border=\"1\" class=\"dataframe\">\n",
       "  <thead>\n",
       "    <tr style=\"text-align: right;\">\n",
       "      <th></th>\n",
       "      <th>Unnamed: 0</th>\n",
       "      <th>index</th>\n",
       "      <th>claim_id</th>\n",
       "      <th>patent_application_id</th>\n",
       "      <th>cited_document_id</th>\n",
       "      <th>text</th>\n",
       "      <th>text_b</th>\n",
       "      <th>label</th>\n",
       "      <th>date</th>\n",
       "    </tr>\n",
       "  </thead>\n",
       "  <tbody>\n",
       "    <tr>\n",
       "      <th>0</th>\n",
       "      <td>710373</td>\n",
       "      <td>710373</td>\n",
       "      <td>39810_1</td>\n",
       "      <td>EP2605530A1</td>\n",
       "      <td>EP2355506</td>\n",
       "      <td>The image streaming apparatus as claimed in cl...</td>\n",
       "      <td>The transmission device 100A includes a contro...</td>\n",
       "      <td>1</td>\n",
       "      <td>20130619</td>\n",
       "    </tr>\n",
       "    <tr>\n",
       "      <th>1</th>\n",
       "      <td>131319</td>\n",
       "      <td>131319</td>\n",
       "      <td>22276_0</td>\n",
       "      <td>EP2497423A1</td>\n",
       "      <td>EP1338241</td>\n",
       "      <td>A biometric apparatus comprising an instructio...</td>\n",
       "      <td>When an attempt is made to detect the componen...</td>\n",
       "      <td>0</td>\n",
       "      <td>20120912</td>\n",
       "    </tr>\n",
       "    <tr>\n",
       "      <th>2</th>\n",
       "      <td>1744346</td>\n",
       "      <td>1744346</td>\n",
       "      <td>48691_1</td>\n",
       "      <td>EP2775437A1</td>\n",
       "      <td>EP2015554</td>\n",
       "      <td>The scan method of Claim 11 wherein requesting...</td>\n",
       "      <td>The input control unit 106 receives an input v...</td>\n",
       "      <td>1</td>\n",
       "      <td>20140910</td>\n",
       "    </tr>\n",
       "    <tr>\n",
       "      <th>3</th>\n",
       "      <td>3596338</td>\n",
       "      <td>3596338</td>\n",
       "      <td>150302_1</td>\n",
       "      <td>EP3001019A1</td>\n",
       "      <td>EP1703114</td>\n",
       "      <td>The flow vectoring turbofan engine as defined ...</td>\n",
       "      <td>By contrast to serrations circumferential vari...</td>\n",
       "      <td>1</td>\n",
       "      <td>20160330</td>\n",
       "    </tr>\n",
       "    <tr>\n",
       "      <th>4</th>\n",
       "      <td>693472</td>\n",
       "      <td>693472</td>\n",
       "      <td>39151_1</td>\n",
       "      <td>EP2603000A1</td>\n",
       "      <td>EP2109321</td>\n",
       "      <td>The method of claim 12 further comprising addi...</td>\n",
       "      <td>More accurate statistical information to impro...</td>\n",
       "      <td>1</td>\n",
       "      <td>20130612</td>\n",
       "    </tr>\n",
       "  </tbody>\n",
       "</table>\n",
       "</div>"
      ],
      "text/plain": [
       "   Unnamed: 0    index  claim_id patent_application_id cited_document_id  \\\n",
       "0      710373   710373   39810_1           EP2605530A1         EP2355506   \n",
       "1      131319   131319   22276_0           EP2497423A1         EP1338241   \n",
       "2     1744346  1744346   48691_1           EP2775437A1         EP2015554   \n",
       "3     3596338  3596338  150302_1           EP3001019A1         EP1703114   \n",
       "4      693472   693472   39151_1           EP2603000A1         EP2109321   \n",
       "\n",
       "                                                text  \\\n",
       "0  The image streaming apparatus as claimed in cl...   \n",
       "1  A biometric apparatus comprising an instructio...   \n",
       "2  The scan method of Claim 11 wherein requesting...   \n",
       "3  The flow vectoring turbofan engine as defined ...   \n",
       "4  The method of claim 12 further comprising addi...   \n",
       "\n",
       "                                              text_b  label      date  \n",
       "0  The transmission device 100A includes a contro...      1  20130619  \n",
       "1  When an attempt is made to detect the componen...      0  20120912  \n",
       "2  The input control unit 106 receives an input v...      1  20140910  \n",
       "3  By contrast to serrations circumferential vari...      1  20160330  \n",
       "4  More accurate statistical information to impro...      1  20130612  "
      ]
     },
     "execution_count": 9,
     "metadata": {},
     "output_type": "execute_result"
    }
   ],
   "source": [
    "df.head()"
   ]
  },
  {
   "cell_type": "code",
   "execution_count": 15,
   "metadata": {},
   "outputs": [
    {
     "data": {
      "text/plain": [
       "'A biometric apparatus comprising an instruction issuing unit configured to issue an instruction to an object person to be measured to execute a predetermined state a pulse sensor configured to measure a pulse rate in the predetermined state a consumed energy measuring unit configured to measure a consumed energy in the predetermined state and a biological data calculating unit configured to define a relational expression of the consumed energy with respect to a predetermined pulse rate of the object person to be measured on the basis of the pulse rate measured by the pulse sensor in the predetermined state and the consumed energy measured by the consumed energy measuring unit at the pulse rate and calculate biological data of the object person to be measured on the basis of the relational expression.'"
      ]
     },
     "execution_count": 15,
     "metadata": {},
     "output_type": "execute_result"
    }
   ],
   "source": [
    "df.iloc(0)[1]['text']"
   ]
  },
  {
   "cell_type": "code",
   "execution_count": null,
   "metadata": {},
   "outputs": [],
   "source": [
    "patentmatch_train_file_passage = root_directory / 'patentmatch_train' / 'patentmatch_train_passage.tsv'"
   ]
  }
 ],
 "metadata": {
  "kernelspec": {
   "display_name": ".venv",
   "language": "python",
   "name": "python3"
  },
  "language_info": {
   "codemirror_mode": {
    "name": "ipython",
    "version": 3
   },
   "file_extension": ".py",
   "mimetype": "text/x-python",
   "name": "python",
   "nbconvert_exporter": "python",
   "pygments_lexer": "ipython3",
   "version": "3.11.7"
  }
 },
 "nbformat": 4,
 "nbformat_minor": 2
}
